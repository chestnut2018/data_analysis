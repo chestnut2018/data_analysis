{
 "cells": [
  {
   "cell_type": "code",
   "execution_count": 2,
   "metadata": {},
   "outputs": [
    {
     "data": {
      "text/plain": [
       "array([1, 2, 3, 4, 5, 6, 7, 8, 9])"
      ]
     },
     "execution_count": 2,
     "metadata": {},
     "output_type": "execute_result"
    }
   ],
   "source": [
    "import numpy as np\n",
    "a1 = np.arange(1,10)\n",
    "a1"
   ]
  },
  {
   "cell_type": "code",
   "execution_count": 6,
   "metadata": {},
   "outputs": [
    {
     "data": {
      "text/plain": [
       "array([10,  8,  6,  4,  2,  0])"
      ]
     },
     "execution_count": 6,
     "metadata": {},
     "output_type": "execute_result"
    }
   ],
   "source": [
    "a2 = np.arange(10,-2,-2)\n",
    "a2"
   ]
  },
  {
   "cell_type": "code",
   "execution_count": 7,
   "metadata": {},
   "outputs": [],
   "source": [
    "a3 = np.arange(-2,10).reshape(3,4)"
   ]
  },
  {
   "cell_type": "code",
   "execution_count": 8,
   "metadata": {},
   "outputs": [
    {
     "data": {
      "text/plain": [
       "array([[-2, -1,  0,  1],\n",
       "       [ 2,  3,  4,  5],\n",
       "       [ 6,  7,  8,  9]])"
      ]
     },
     "execution_count": 8,
     "metadata": {},
     "output_type": "execute_result"
    }
   ],
   "source": [
    "a3"
   ]
  },
  {
   "cell_type": "code",
   "execution_count": 9,
   "metadata": {},
   "outputs": [],
   "source": [
    "a4 =np.random.randint(2,15,(3,4))"
   ]
  },
  {
   "cell_type": "code",
   "execution_count": 10,
   "metadata": {},
   "outputs": [
    {
     "data": {
      "text/plain": [
       "array([[ 4, 12, 11,  3],\n",
       "       [14, 13,  4,  2],\n",
       "       [ 9,  4, 13,  8]])"
      ]
     },
     "execution_count": 10,
     "metadata": {},
     "output_type": "execute_result"
    }
   ],
   "source": [
    "a4"
   ]
  },
  {
   "cell_type": "code",
   "execution_count": 14,
   "metadata": {},
   "outputs": [],
   "source": [
    "f=lambda x,y:(((x**2)-(y**3)+(6*x*(y**2))-12)/(5*y-7*x*y+3)).sum()\n",
    "a5= np.arange(1,10)\n",
    "a6=np.arange(1,10)"
   ]
  },
  {
   "cell_type": "code",
   "execution_count": 15,
   "metadata": {},
   "outputs": [
    {
     "data": {
      "text/plain": [
       "-43.43806242499484"
      ]
     },
     "execution_count": 15,
     "metadata": {},
     "output_type": "execute_result"
    }
   ],
   "source": [
    "f(a5,a6)"
   ]
  },
  {
   "cell_type": "code",
   "execution_count": 16,
   "metadata": {},
   "outputs": [
    {
     "data": {
      "text/plain": [
       "array([[ -8,   0,  -1,  -9],\n",
       "       [  2,   1,  -8, -10],\n",
       "       [ -3,  -8,   1,  -4]])"
      ]
     },
     "execution_count": 16,
     "metadata": {},
     "output_type": "execute_result"
    }
   ],
   "source": [
    "a4-12"
   ]
  },
  {
   "cell_type": "code",
   "execution_count": 18,
   "metadata": {},
   "outputs": [
    {
     "data": {
      "text/plain": [
       "array([[-0.5       , -0.08333333,  0.        ,  0.33333333],\n",
       "       [ 0.14285714,  0.23076923,  1.        ,  2.5       ],\n",
       "       [ 0.66666667,  1.75      ,  0.61538462,  1.125     ]])"
      ]
     },
     "execution_count": 18,
     "metadata": {},
     "output_type": "execute_result"
    }
   ],
   "source": [
    "a3/a4"
   ]
  },
  {
   "cell_type": "code",
   "execution_count": 19,
   "metadata": {},
   "outputs": [
    {
     "data": {
      "text/plain": [
       "array([[ -8, -12,   0,   3],\n",
       "       [ 28,  39,  16,  10],\n",
       "       [ 54,  28, 104,  72]])"
      ]
     },
     "execution_count": 19,
     "metadata": {},
     "output_type": "execute_result"
    }
   ],
   "source": [
    "a3*a4"
   ]
  },
  {
   "cell_type": "code",
   "execution_count": 20,
   "metadata": {},
   "outputs": [
    {
     "data": {
      "text/plain": [
       "array([[ 4, 12, 11,  3],\n",
       "       [14, 13,  4,  2],\n",
       "       [ 9,  4, 13,  8]])"
      ]
     },
     "execution_count": 20,
     "metadata": {},
     "output_type": "execute_result"
    }
   ],
   "source": [
    "a4"
   ]
  },
  {
   "cell_type": "code",
   "execution_count": 21,
   "metadata": {},
   "outputs": [
    {
     "data": {
      "text/plain": [
       "array([ 4, 14,  9])"
      ]
     },
     "execution_count": 21,
     "metadata": {},
     "output_type": "execute_result"
    }
   ],
   "source": [
    "a4[:,0]"
   ]
  },
  {
   "cell_type": "code",
   "execution_count": 30,
   "metadata": {},
   "outputs": [
    {
     "data": {
      "text/plain": [
       "array([[ 4],\n",
       "       [14],\n",
       "       [ 9]])"
      ]
     },
     "execution_count": 30,
     "metadata": {},
     "output_type": "execute_result"
    }
   ],
   "source": [
    "a4[:,0].reshape(len(a4),1)"
   ]
  },
  {
   "cell_type": "code",
   "execution_count": 3,
   "metadata": {},
   "outputs": [],
   "source": [
    "s= np.array([1,2,3,4,5])"
   ]
  },
  {
   "cell_type": "code",
   "execution_count": 4,
   "metadata": {},
   "outputs": [
    {
     "data": {
      "text/plain": [
       "15"
      ]
     },
     "execution_count": 4,
     "metadata": {},
     "output_type": "execute_result"
    }
   ],
   "source": [
    "s.sum()"
   ]
  },
  {
   "cell_type": "code",
   "execution_count": 5,
   "metadata": {},
   "outputs": [
    {
     "data": {
      "text/plain": [
       "15"
      ]
     },
     "execution_count": 5,
     "metadata": {},
     "output_type": "execute_result"
    }
   ],
   "source": [
    "np.sum(s)"
   ]
  },
  {
   "cell_type": "code",
   "execution_count": 7,
   "metadata": {},
   "outputs": [],
   "source": [
    "#二维数组索引\n",
    "q = np.random.randint(2,10,(3,4))"
   ]
  },
  {
   "cell_type": "code",
   "execution_count": 8,
   "metadata": {},
   "outputs": [
    {
     "data": {
      "text/plain": [
       "array([[2, 3, 3, 3],\n",
       "       [4, 9, 8, 8],\n",
       "       [7, 7, 5, 8]])"
      ]
     },
     "execution_count": 8,
     "metadata": {},
     "output_type": "execute_result"
    }
   ],
   "source": [
    "q"
   ]
  },
  {
   "cell_type": "code",
   "execution_count": 12,
   "metadata": {},
   "outputs": [
    {
     "data": {
      "text/plain": [
       "(2, 3)"
      ]
     },
     "execution_count": 12,
     "metadata": {},
     "output_type": "execute_result"
    }
   ],
   "source": [
    "q[0,0],q[0][1]"
   ]
  },
  {
   "cell_type": "code",
   "execution_count": 15,
   "metadata": {},
   "outputs": [
    {
     "data": {
      "text/plain": [
       "array([4, 9, 8, 8])"
      ]
     },
     "execution_count": 15,
     "metadata": {},
     "output_type": "execute_result"
    }
   ],
   "source": [
    "#直接选行\n",
    "q[1]"
   ]
  },
  {
   "cell_type": "code",
   "execution_count": 16,
   "metadata": {},
   "outputs": [
    {
     "data": {
      "text/plain": [
       "array([3, 9, 7])"
      ]
     },
     "execution_count": 16,
     "metadata": {},
     "output_type": "execute_result"
    }
   ],
   "source": [
    "#选列\n",
    "q[:,1]"
   ]
  },
  {
   "cell_type": "code",
   "execution_count": 17,
   "metadata": {},
   "outputs": [
    {
     "data": {
      "text/plain": [
       "array([[9, 8],\n",
       "       [7, 5]])"
      ]
     },
     "execution_count": 17,
     "metadata": {},
     "output_type": "execute_result"
    }
   ],
   "source": [
    "#选区，分块\n",
    "#array([[2, 3, 3, 3],\n",
    "#      [4, 9, 8, 8],\n",
    "#     [7, 7, 5, 8]])\n",
    "q[1:,1:3]"
   ]
  },
  {
   "cell_type": "code",
   "execution_count": 20,
   "metadata": {},
   "outputs": [],
   "source": [
    "#切片：将选区赋给变量\n",
    "split =q[:2,2:].copy()  #Ignore split（孤立切片）"
   ]
  },
  {
   "cell_type": "code",
   "execution_count": 19,
   "metadata": {},
   "outputs": [
    {
     "data": {
      "text/plain": [
       "array([[3, 3],\n",
       "       [8, 8]])"
      ]
     },
     "execution_count": 19,
     "metadata": {},
     "output_type": "execute_result"
    }
   ],
   "source": [
    "split"
   ]
  },
  {
   "cell_type": "code",
   "execution_count": 23,
   "metadata": {},
   "outputs": [],
   "source": [
    "#广播功能，就是批量赋值\n",
    "split[:] = 5"
   ]
  },
  {
   "cell_type": "code",
   "execution_count": 24,
   "metadata": {},
   "outputs": [
    {
     "data": {
      "text/plain": [
       "array([[5, 5],\n",
       "       [5, 5]])"
      ]
     },
     "execution_count": 24,
     "metadata": {},
     "output_type": "execute_result"
    }
   ],
   "source": [
    "split"
   ]
  },
  {
   "cell_type": "code",
   "execution_count": 25,
   "metadata": {},
   "outputs": [
    {
     "data": {
      "text/plain": [
       "array([[2, 3, 3, 3],\n",
       "       [4, 9, 8, 8],\n",
       "       [7, 7, 5, 8]])"
      ]
     },
     "execution_count": 25,
     "metadata": {},
     "output_type": "execute_result"
    }
   ],
   "source": [
    "q"
   ]
  },
  {
   "cell_type": "code",
   "execution_count": 26,
   "metadata": {},
   "outputs": [],
   "source": [
    "split[1]=[6,8] #通过列表赋值"
   ]
  },
  {
   "cell_type": "code",
   "execution_count": 27,
   "metadata": {},
   "outputs": [
    {
     "data": {
      "text/plain": [
       "array([[5, 5],\n",
       "       [6, 8]])"
      ]
     },
     "execution_count": 27,
     "metadata": {},
     "output_type": "execute_result"
    }
   ],
   "source": [
    "split"
   ]
  },
  {
   "cell_type": "code",
   "execution_count": 42,
   "metadata": {},
   "outputs": [],
   "source": [
    "split[:,0] = 88,99  #通过元组赋值"
   ]
  },
  {
   "cell_type": "code",
   "execution_count": 41,
   "metadata": {},
   "outputs": [
    {
     "data": {
      "text/plain": [
       "array([[88,  5],\n",
       "       [99,  8]])"
      ]
     },
     "execution_count": 41,
     "metadata": {},
     "output_type": "execute_result"
    }
   ],
   "source": [
    "split"
   ]
  },
  {
   "cell_type": "code",
   "execution_count": null,
   "metadata": {},
   "outputs": [],
   "source": [
    "#可以通过元组，列表，嵌套列表，嵌套元组，或者一维、二维数组对切片或选区赋值"
   ]
  },
  {
   "cell_type": "code",
   "execution_count": 43,
   "metadata": {},
   "outputs": [
    {
     "name": "stdout",
     "output_type": "stream",
     "text": [
      "hello\n"
     ]
    }
   ],
   "source": [
    "三维数组的索引与选区"
   ]
  },
  {
   "cell_type": "code",
   "execution_count": 44,
   "metadata": {},
   "outputs": [
    {
     "name": "stdout",
     "output_type": "stream",
     "text": [
      "a1\t np\t q\t s\t split\t \n"
     ]
    }
   ],
   "source": [
    "%who"
   ]
  },
  {
   "cell_type": "code",
   "execution_count": 46,
   "metadata": {},
   "outputs": [
    {
     "data": {
      "text/plain": [
       "array([[[8, 8, 1, 1],\n",
       "        [8, 3, 6, 8],\n",
       "        [9, 7, 4, 7]],\n",
       "\n",
       "       [[8, 8, 2, 9],\n",
       "        [4, 6, 9, 5],\n",
       "        [9, 5, 8, 8]]])"
      ]
     },
     "execution_count": 46,
     "metadata": {},
     "output_type": "execute_result"
    }
   ],
   "source": [
    "sw = np.random.randint(1,10,(2,3,4))\n",
    "sw"
   ]
  },
  {
   "cell_type": "code",
   "execution_count": 48,
   "metadata": {},
   "outputs": [
    {
     "data": {
      "text/plain": [
       "6"
      ]
     },
     "execution_count": 48,
     "metadata": {},
     "output_type": "execute_result"
    }
   ],
   "source": [
    "#找出第一个6\n",
    "sw[0,1,2]"
   ]
  },
  {
   "cell_type": "code",
   "execution_count": 51,
   "metadata": {},
   "outputs": [
    {
     "data": {
      "text/plain": [
       "array([4, 6, 9, 5])"
      ]
     },
     "execution_count": 51,
     "metadata": {},
     "output_type": "execute_result"
    }
   ],
   "source": [
    "#找出4,6,9,5行\n",
    "sw[1,1]  #或sw[1,1,:]"
   ]
  },
  {
   "cell_type": "code",
   "execution_count": 56,
   "metadata": {},
   "outputs": [
    {
     "data": {
      "text/plain": [
       "array([[8],\n",
       "       [3],\n",
       "       [7],\n",
       "       [8],\n",
       "       [6],\n",
       "       [5]])"
      ]
     },
     "execution_count": 56,
     "metadata": {},
     "output_type": "execute_result"
    }
   ],
   "source": [
    "#找出8,3,7,8,6,5列\n",
    "sw[:,:,1].reshape((sw[:,:,1]).size,1)"
   ]
  },
  {
   "cell_type": "code",
   "execution_count": 65,
   "metadata": {},
   "outputs": [
    {
     "data": {
      "text/plain": [
       "array([[9, 4, 8, 8],\n",
       "       [8, 3, 3, 7],\n",
       "       [6, 9, 6, 4]])"
      ]
     },
     "execution_count": 65,
     "metadata": {},
     "output_type": "execute_result"
    }
   ],
   "source": [
    "#布尔数组\n",
    "bl = np.random.randint(3,10,(3,4))\n",
    "bl"
   ]
  },
  {
   "cell_type": "code",
   "execution_count": 66,
   "metadata": {},
   "outputs": [
    {
     "data": {
      "text/plain": [
       "array([[ True, False, False, False],\n",
       "       [False, False, False, False],\n",
       "       [False,  True, False, False]])"
      ]
     },
     "execution_count": 66,
     "metadata": {},
     "output_type": "execute_result"
    }
   ],
   "source": [
    "bl==9  #判断操作"
   ]
  },
  {
   "cell_type": "code",
   "execution_count": 74,
   "metadata": {},
   "outputs": [
    {
     "data": {
      "text/plain": [
       "array([[ True, False, False, False],\n",
       "       [False,  True,  True, False],\n",
       "       [False,  True, False, False]])"
      ]
     },
     "execution_count": 74,
     "metadata": {},
     "output_type": "execute_result"
    }
   ],
   "source": [
    "(bl>9)|(bl<4)|(bl==9)  #条件需要括号括起来   |或 &与 ~非"
   ]
  },
  {
   "cell_type": "code",
   "execution_count": 76,
   "metadata": {},
   "outputs": [
    {
     "data": {
      "text/plain": [
       "array([[ True,  True, False, False],\n",
       "       [False,  True,  True,  True],\n",
       "       [ True,  True,  True,  True]])"
      ]
     },
     "execution_count": 76,
     "metadata": {},
     "output_type": "execute_result"
    }
   ],
   "source": [
    "~(bl==8)"
   ]
  },
  {
   "cell_type": "code",
   "execution_count": 79,
   "metadata": {},
   "outputs": [
    {
     "data": {
      "text/plain": [
       "array([[3, 8, 8, 2, 2],\n",
       "       [5, 4, 5, 9, 6],\n",
       "       [4, 2, 8, 6, 3],\n",
       "       [5, 6, 4, 5, 8],\n",
       "       [4, 8, 4, 8, 7],\n",
       "       [5, 2, 7, 8, 6]])"
      ]
     },
     "execution_count": 79,
     "metadata": {},
     "output_type": "execute_result"
    }
   ],
   "source": [
    "#布尔数组帮助进行索引\n",
    "sy = np.random.randint(2,10,(6,5))\n",
    "sy"
   ]
  },
  {
   "cell_type": "code",
   "execution_count": 84,
   "metadata": {},
   "outputs": [
    {
     "data": {
      "text/plain": [
       "array([[0, 8, 8, 2, 2],\n",
       "       [1, 4, 5, 9, 6],\n",
       "       [1, 2, 8, 6, 3],\n",
       "       [0, 6, 4, 5, 8],\n",
       "       [0, 8, 4, 8, 7],\n",
       "       [1, 2, 7, 8, 6]])"
      ]
     },
     "execution_count": 84,
     "metadata": {},
     "output_type": "execute_result"
    }
   ],
   "source": [
    "sy[:,0] = [0,1,1,0,0,1]\n",
    "sy"
   ]
  },
  {
   "cell_type": "code",
   "execution_count": 85,
   "metadata": {},
   "outputs": [
    {
     "data": {
      "text/plain": [
       "array([ True, False, False,  True,  True, False])"
      ]
     },
     "execution_count": 85,
     "metadata": {},
     "output_type": "execute_result"
    }
   ],
   "source": [
    "sy[:,0] == 0"
   ]
  },
  {
   "cell_type": "code",
   "execution_count": 86,
   "metadata": {},
   "outputs": [
    {
     "data": {
      "text/plain": [
       "array([[0, 8, 8, 2, 2],\n",
       "       [0, 6, 4, 5, 8],\n",
       "       [0, 8, 4, 8, 7]])"
      ]
     },
     "execution_count": 86,
     "metadata": {},
     "output_type": "execute_result"
    }
   ],
   "source": [
    "sy[sy[:,0]==0] #作为判断条件筛选数组"
   ]
  },
  {
   "cell_type": "code",
   "execution_count": 87,
   "metadata": {},
   "outputs": [
    {
     "data": {
      "text/plain": [
       "array([[3, 2, 8, 4, 1, 9],\n",
       "       [5, 1, 4, 3, 8, 8],\n",
       "       [4, 9, 9, 2, 1, 9],\n",
       "       [5, 1, 8, 8, 5, 5],\n",
       "       [2, 8, 2, 7, 3, 2],\n",
       "       [7, 2, 9, 1, 1, 1]])"
      ]
     },
     "execution_count": 87,
     "metadata": {},
     "output_type": "execute_result"
    }
   ],
   "source": [
    "gg = np.random.randint(1,10,(6,6))\n",
    "gg"
   ]
  },
  {
   "cell_type": "code",
   "execution_count": 94,
   "metadata": {},
   "outputs": [
    {
     "data": {
      "text/plain": [
       "array([[5, 1, 4, 3, 8, 8],\n",
       "       [4, 9, 9, 2, 1, 9],\n",
       "       [7, 2, 9, 1, 1, 1]])"
      ]
     },
     "execution_count": 94,
     "metadata": {},
     "output_type": "execute_result"
    }
   ],
   "source": [
    "#花式索引一\n",
    "gg[[1,2,-1]] #第一行，第二行，最后一行"
   ]
  },
  {
   "cell_type": "code",
   "execution_count": 95,
   "metadata": {},
   "outputs": [
    {
     "data": {
      "text/plain": [
       "array([[2, 8, 9],\n",
       "       [1, 4, 8],\n",
       "       [9, 9, 9],\n",
       "       [1, 8, 5],\n",
       "       [8, 2, 2],\n",
       "       [2, 9, 1]])"
      ]
     },
     "execution_count": 95,
     "metadata": {},
     "output_type": "execute_result"
    }
   ],
   "source": [
    "#花式索引二\n",
    "gg[:,[1,2,-1]]  #所有行的第一列，第二列，最后一列"
   ]
  },
  {
   "cell_type": "code",
   "execution_count": 110,
   "metadata": {},
   "outputs": [
    {
     "data": {
      "text/plain": [
       "array([[3, 2, 8, 4, 1, 9],\n",
       "       [5, 1, 4, 3, 8, 8],\n",
       "       [4, 9, 9, 2, 1, 9],\n",
       "       [5, 1, 8, 8, 5, 5],\n",
       "       [2, 8, 2, 7, 3, 2],\n",
       "       [7, 2, 9, 1, 1, 1]])"
      ]
     },
     "execution_count": 110,
     "metadata": {},
     "output_type": "execute_result"
    }
   ],
   "source": [
    "#花式索引3=1*2\n",
    "gg"
   ]
  },
  {
   "cell_type": "code",
   "execution_count": 111,
   "metadata": {},
   "outputs": [
    {
     "data": {
      "text/plain": [
       "array([[2, 8, 4],\n",
       "       [1, 4, 3],\n",
       "       [9, 9, 2]])"
      ]
     },
     "execution_count": 111,
     "metadata": {},
     "output_type": "execute_result"
    }
   ],
   "source": [
    "gg[[0,1,2]][:,[1,2,3]]"
   ]
  },
  {
   "cell_type": "code",
   "execution_count": 112,
   "metadata": {},
   "outputs": [
    {
     "data": {
      "text/plain": [
       "array([8, 1, 2])"
      ]
     },
     "execution_count": 112,
     "metadata": {},
     "output_type": "execute_result"
    }
   ],
   "source": [
    "#花式索引4\n",
    "gg[[0,1,2],[2,1,3]] #第0行的第2个元素，第1行的第1个元素..."
   ]
  },
  {
   "cell_type": "code",
   "execution_count": 113,
   "metadata": {},
   "outputs": [
    {
     "data": {
      "text/plain": [
       "array([[8, 2, 4],\n",
       "       [4, 1, 3],\n",
       "       [9, 9, 2]])"
      ]
     },
     "execution_count": 113,
     "metadata": {},
     "output_type": "execute_result"
    }
   ],
   "source": [
    "gg[np.ix_([0,1,2],[2,1,3])] #笛卡尔积（0,2）（0,1）（0,3）（1,2）（1,1）..."
   ]
  },
  {
   "cell_type": "code",
   "execution_count": 114,
   "metadata": {},
   "outputs": [
    {
     "data": {
      "text/plain": [
       "array([[3, 2, 8, 4, 1, 9],\n",
       "       [5, 1, 4, 3, 8, 8],\n",
       "       [4, 9, 9, 2, 1, 9],\n",
       "       [5, 1, 8, 8, 5, 5],\n",
       "       [2, 8, 2, 7, 3, 2],\n",
       "       [7, 2, 9, 1, 1, 1]])"
      ]
     },
     "execution_count": 114,
     "metadata": {},
     "output_type": "execute_result"
    }
   ],
   "source": [
    "#二维数组转置 ,一维数组转置后不变\n",
    "gg"
   ]
  },
  {
   "cell_type": "code",
   "execution_count": 115,
   "metadata": {},
   "outputs": [
    {
     "data": {
      "text/plain": [
       "array([[3, 5, 4, 5, 2, 7],\n",
       "       [2, 1, 9, 1, 8, 2],\n",
       "       [8, 4, 9, 8, 2, 9],\n",
       "       [4, 3, 2, 8, 7, 1],\n",
       "       [1, 8, 1, 5, 3, 1],\n",
       "       [9, 8, 9, 5, 2, 1]])"
      ]
     },
     "execution_count": 115,
     "metadata": {},
     "output_type": "execute_result"
    }
   ],
   "source": [
    "gg.T"
   ]
  },
  {
   "cell_type": "code",
   "execution_count": 118,
   "metadata": {},
   "outputs": [
    {
     "data": {
      "text/plain": [
       "array([[[16, 24,  9, 23, 24],\n",
       "        [ 2, 16,  4, 21, 20],\n",
       "        [14, 14, 18,  7, 11],\n",
       "        [ 9, 26, 15,  2, 29]],\n",
       "\n",
       "       [[24, 23, 10, 27,  4],\n",
       "        [24,  8, 24,  5,  4],\n",
       "        [20,  4, 22, 10, 23],\n",
       "        [ 2, 20, 26, 14,  2]],\n",
       "\n",
       "       [[19, 18,  7,  6, 13],\n",
       "        [ 1, 29, 11,  7, 25],\n",
       "        [ 5,  6, 21, 26,  4],\n",
       "        [17,  5, 12, 14,  3]]])"
      ]
     },
     "execution_count": 118,
     "metadata": {},
     "output_type": "execute_result"
    }
   ],
   "source": [
    "#三维数组转置  三元组（0,1,2）\n",
    "st= np.random.randint(1,30,(3,4,5))\n",
    "st"
   ]
  },
  {
   "cell_type": "code",
   "execution_count": 119,
   "metadata": {},
   "outputs": [
    {
     "data": {
      "text/plain": [
       "(3, 4, 5)"
      ]
     },
     "execution_count": 119,
     "metadata": {},
     "output_type": "execute_result"
    }
   ],
   "source": [
    "st.shape"
   ]
  },
  {
   "cell_type": "code",
   "execution_count": 120,
   "metadata": {},
   "outputs": [
    {
     "data": {
      "text/plain": [
       "array([[[16,  2, 14,  9],\n",
       "        [24, 16, 14, 26],\n",
       "        [ 9,  4, 18, 15],\n",
       "        [23, 21,  7,  2],\n",
       "        [24, 20, 11, 29]],\n",
       "\n",
       "       [[24, 24, 20,  2],\n",
       "        [23,  8,  4, 20],\n",
       "        [10, 24, 22, 26],\n",
       "        [27,  5, 10, 14],\n",
       "        [ 4,  4, 23,  2]],\n",
       "\n",
       "       [[19,  1,  5, 17],\n",
       "        [18, 29,  6,  5],\n",
       "        [ 7, 11, 21, 12],\n",
       "        [ 6,  7, 26, 14],\n",
       "        [13, 25,  4,  3]]])"
      ]
     },
     "execution_count": 120,
     "metadata": {},
     "output_type": "execute_result"
    }
   ],
   "source": [
    "st.transpose(0,2,1) #相当于shape变成（3,5,4），将原来每个元素的索引值的维度调换位置"
   ]
  },
  {
   "cell_type": "code",
   "execution_count": 121,
   "metadata": {},
   "outputs": [
    {
     "data": {
      "text/plain": [
       "array([[[16, 24,  9, 23, 24],\n",
       "        [ 2, 16,  4, 21, 20],\n",
       "        [14, 14, 18,  7, 11],\n",
       "        [ 9, 26, 15,  2, 29]],\n",
       "\n",
       "       [[24, 23, 10, 27,  4],\n",
       "        [24,  8, 24,  5,  4],\n",
       "        [20,  4, 22, 10, 23],\n",
       "        [ 2, 20, 26, 14,  2]],\n",
       "\n",
       "       [[19, 18,  7,  6, 13],\n",
       "        [ 1, 29, 11,  7, 25],\n",
       "        [ 5,  6, 21, 26,  4],\n",
       "        [17,  5, 12, 14,  3]]])"
      ]
     },
     "execution_count": 121,
     "metadata": {},
     "output_type": "execute_result"
    }
   ],
   "source": [
    "st"
   ]
  },
  {
   "cell_type": "code",
   "execution_count": 125,
   "metadata": {},
   "outputs": [
    {
     "data": {
      "text/plain": [
       "array([[[16, 24,  9, 23, 24],\n",
       "        [24, 23, 10, 27,  4],\n",
       "        [19, 18,  7,  6, 13]],\n",
       "\n",
       "       [[ 2, 16,  4, 21, 20],\n",
       "        [24,  8, 24,  5,  4],\n",
       "        [ 1, 29, 11,  7, 25]],\n",
       "\n",
       "       [[14, 14, 18,  7, 11],\n",
       "        [20,  4, 22, 10, 23],\n",
       "        [ 5,  6, 21, 26,  4]],\n",
       "\n",
       "       [[ 9, 26, 15,  2, 29],\n",
       "        [ 2, 20, 26, 14,  2],\n",
       "        [17,  5, 12, 14,  3]]])"
      ]
     },
     "execution_count": 125,
     "metadata": {},
     "output_type": "execute_result"
    }
   ],
   "source": [
    "st.transpose(1,0,2) #相当于shape变成（4,3,5）"
   ]
  },
  {
   "cell_type": "code",
   "execution_count": 124,
   "metadata": {},
   "outputs": [
    {
     "data": {
      "text/plain": [
       "array([[[16, 24, 19],\n",
       "        [ 2, 24,  1],\n",
       "        [14, 20,  5],\n",
       "        [ 9,  2, 17]],\n",
       "\n",
       "       [[24, 23, 18],\n",
       "        [16,  8, 29],\n",
       "        [14,  4,  6],\n",
       "        [26, 20,  5]],\n",
       "\n",
       "       [[ 9, 10,  7],\n",
       "        [ 4, 24, 11],\n",
       "        [18, 22, 21],\n",
       "        [15, 26, 12]],\n",
       "\n",
       "       [[23, 27,  6],\n",
       "        [21,  5,  7],\n",
       "        [ 7, 10, 26],\n",
       "        [ 2, 14, 14]],\n",
       "\n",
       "       [[24,  4, 13],\n",
       "        [20,  4, 25],\n",
       "        [11, 23,  4],\n",
       "        [29,  2,  3]]])"
      ]
     },
     "execution_count": 124,
     "metadata": {},
     "output_type": "execute_result"
    }
   ],
   "source": [
    "#全转置1\n",
    "st.transpose(2,1,0)"
   ]
  },
  {
   "cell_type": "code",
   "execution_count": 126,
   "metadata": {},
   "outputs": [
    {
     "data": {
      "text/plain": [
       "array([[[16, 24, 19],\n",
       "        [ 2, 24,  1],\n",
       "        [14, 20,  5],\n",
       "        [ 9,  2, 17]],\n",
       "\n",
       "       [[24, 23, 18],\n",
       "        [16,  8, 29],\n",
       "        [14,  4,  6],\n",
       "        [26, 20,  5]],\n",
       "\n",
       "       [[ 9, 10,  7],\n",
       "        [ 4, 24, 11],\n",
       "        [18, 22, 21],\n",
       "        [15, 26, 12]],\n",
       "\n",
       "       [[23, 27,  6],\n",
       "        [21,  5,  7],\n",
       "        [ 7, 10, 26],\n",
       "        [ 2, 14, 14]],\n",
       "\n",
       "       [[24,  4, 13],\n",
       "        [20,  4, 25],\n",
       "        [11, 23,  4],\n",
       "        [29,  2,  3]]])"
      ]
     },
     "execution_count": 126,
     "metadata": {},
     "output_type": "execute_result"
    }
   ],
   "source": [
    "#全转置2\n",
    "st.T"
   ]
  },
  {
   "cell_type": "code",
   "execution_count": 127,
   "metadata": {},
   "outputs": [
    {
     "data": {
      "text/plain": [
       "array([[[16, 24,  9, 23, 24],\n",
       "        [24, 23, 10, 27,  4],\n",
       "        [19, 18,  7,  6, 13]],\n",
       "\n",
       "       [[ 2, 16,  4, 21, 20],\n",
       "        [24,  8, 24,  5,  4],\n",
       "        [ 1, 29, 11,  7, 25]],\n",
       "\n",
       "       [[14, 14, 18,  7, 11],\n",
       "        [20,  4, 22, 10, 23],\n",
       "        [ 5,  6, 21, 26,  4]],\n",
       "\n",
       "       [[ 9, 26, 15,  2, 29],\n",
       "        [ 2, 20, 26, 14,  2],\n",
       "        [17,  5, 12, 14,  3]]])"
      ]
     },
     "execution_count": 127,
     "metadata": {},
     "output_type": "execute_result"
    }
   ],
   "source": [
    "st.swapaxes(0,1) #接受一对维度的更换位置，相当于st.transpose(1,0,2)"
   ]
  },
  {
   "cell_type": "code",
   "execution_count": 128,
   "metadata": {},
   "outputs": [
    {
     "data": {
      "text/plain": [
       "array([[[16, 24,  9, 23, 24],\n",
       "        [24, 23, 10, 27,  4],\n",
       "        [19, 18,  7,  6, 13]],\n",
       "\n",
       "       [[ 2, 16,  4, 21, 20],\n",
       "        [24,  8, 24,  5,  4],\n",
       "        [ 1, 29, 11,  7, 25]],\n",
       "\n",
       "       [[14, 14, 18,  7, 11],\n",
       "        [20,  4, 22, 10, 23],\n",
       "        [ 5,  6, 21, 26,  4]],\n",
       "\n",
       "       [[ 9, 26, 15,  2, 29],\n",
       "        [ 2, 20, 26, 14,  2],\n",
       "        [17,  5, 12, 14,  3]]])"
      ]
     },
     "execution_count": 128,
     "metadata": {},
     "output_type": "execute_result"
    }
   ],
   "source": [
    "st.transpose(1,0,2)"
   ]
  },
  {
   "cell_type": "code",
   "execution_count": null,
   "metadata": {},
   "outputs": [],
   "source": []
  },
  {
   "cell_type": "code",
   "execution_count": null,
   "metadata": {},
   "outputs": [],
   "source": []
  }
 ],
 "metadata": {
  "kernelspec": {
   "display_name": "Python 3",
   "language": "python",
   "name": "python3"
  },
  "language_info": {
   "codemirror_mode": {
    "name": "ipython",
    "version": 3
   },
   "file_extension": ".py",
   "mimetype": "text/x-python",
   "name": "python",
   "nbconvert_exporter": "python",
   "pygments_lexer": "ipython3",
   "version": "3.7.3"
  }
 },
 "nbformat": 4,
 "nbformat_minor": 2
}
